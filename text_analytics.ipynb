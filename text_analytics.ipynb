{
 "cells": [
  {
   "cell_type": "code",
   "metadata": {
    "ExecuteTime": {
     "end_time": "2025-05-05T03:28:33.519658Z",
     "start_time": "2025-05-05T03:28:33.516174Z"
    }
   },
   "source": [
    "import pandas as pd\n",
    "import nltk\n",
    "import re\n",
    "from nltk.tokenize import word_tokenize\n",
    "from nltk.corpus import stopwords\n",
    "from nltk.stem import PorterStemmer, WordNetLemmatizer\n",
    "import string\n",
    "from collections import Counter\n",
    "import math\n",
    "import matplotlib.pyplot as plt\n",
    "\n",
    "# Enable inline plotting\n",
    "%matplotlib inline"
   ],
   "outputs": [],
   "execution_count": 13
  },
  {
   "cell_type": "code",
   "metadata": {
    "ExecuteTime": {
     "end_time": "2025-05-05T03:28:33.532476Z",
     "start_time": "2025-05-05T03:28:33.529022Z"
    }
   },
   "source": [
    "# Download required NLTK resources\n",
    "print(\"Downloading NLTK resources...\")\n",
    "nltk.download('punkt', quiet=True)\n",
    "nltk.download('stopwords', quiet=True)\n",
    "nltk.download('wordnet', quiet=True)\n",
    "nltk.download('omw-1.4', quiet=True)"
   ],
   "outputs": [
    {
     "name": "stdout",
     "output_type": "stream",
     "text": [
      "Downloading NLTK resources...\n"
     ]
    },
    {
     "data": {
      "text/plain": [
       "True"
      ]
     },
     "execution_count": 14,
     "metadata": {},
     "output_type": "execute_result"
    }
   ],
   "execution_count": 14
  },
  {
   "cell_type": "code",
   "metadata": {
    "ExecuteTime": {
     "end_time": "2025-05-05T03:28:33.547363Z",
     "start_time": "2025-05-05T03:28:33.544889Z"
    }
   },
   "source": [
    "# Sample text for analysis\n",
    "sample_text = \"\"\"\n",
    "Natural Language Processing (NLP) is a field of artificial intelligence that focuses on the interaction between computers and humans using natural language. The ultimate objective of NLP is to read, decipher, understand, and make sense of human language in a valuable way.\n",
    "\n",
    "NLP combines computational linguistics—rule-based modeling of human language—with statistical, machine learning, and deep learning models. These technologies enable computers to process human language in the form of text or voice data and to 'understand' its full meaning, complete with the speaker or writer's intent and sentiment.\n",
    "\"\"\"\n",
    "\n",
    "print(\"Original text:\")\n",
    "print(sample_text)"
   ],
   "outputs": [
    {
     "name": "stdout",
     "output_type": "stream",
     "text": [
      "Original text:\n",
      "\n",
      "Natural Language Processing (NLP) is a field of artificial intelligence that focuses on the interaction between computers and humans using natural language. The ultimate objective of NLP is to read, decipher, understand, and make sense of human language in a valuable way.\n",
      "\n",
      "NLP combines computational linguistics—rule-based modeling of human language—with statistical, machine learning, and deep learning models. These technologies enable computers to process human language in the form of text or voice data and to 'understand' its full meaning, complete with the speaker or writer's intent and sentiment.\n",
      "\n"
     ]
    }
   ],
   "execution_count": 15
  },
  {
   "cell_type": "code",
   "metadata": {
    "ExecuteTime": {
     "end_time": "2025-05-05T03:28:33.565834Z",
     "start_time": "2025-05-05T03:28:33.563636Z"
    }
   },
   "source": [
    "# Split text into sentences using regex for simplicity\n",
    "sentences = re.split(r'(?<=[.!?])\\s+', sample_text.strip())\n",
    "sentences = [s for s in sentences if s.strip()]"
   ],
   "outputs": [],
   "execution_count": 16
  },
  {
   "cell_type": "code",
   "metadata": {
    "ExecuteTime": {
     "end_time": "2025-05-05T03:28:33.576707Z",
     "start_time": "2025-05-05T03:28:33.573749Z"
    }
   },
   "source": [
    "print(\"1. Tokenization:\")\n",
    "print(f\"Number of sentences: {len(sentences)}\")\n",
    "print(f\"First sentence: {sentences[0]}\")"
   ],
   "outputs": [
    {
     "name": "stdout",
     "output_type": "stream",
     "text": [
      "1. Tokenization:\n",
      "Number of sentences: 4\n",
      "First sentence: Natural Language Processing (NLP) is a field of artificial intelligence that focuses on the interaction between computers and humans using natural language.\n"
     ]
    }
   ],
   "execution_count": 17
  },
  {
   "cell_type": "code",
   "metadata": {
    "ExecuteTime": {
     "end_time": "2025-05-05T03:28:33.590250Z",
     "start_time": "2025-05-05T03:28:33.587981Z"
    }
   },
   "source": [
    "# Split text into words\n",
    "words = re.findall(r'\\b\\w+\\b|[^\\w\\s]', sample_text)\n",
    "print(f\"Number of words: {len(words)}\")\n",
    "print(f\"First 10 words: {words[:10]}\")"
   ],
   "outputs": [
    {
     "name": "stdout",
     "output_type": "stream",
     "text": [
      "Number of words: 110\n",
      "First 10 words: ['Natural', 'Language', 'Processing', '(', 'NLP', ')', 'is', 'a', 'field', 'of']\n"
     ]
    }
   ],
   "execution_count": 18
  },
  {
   "cell_type": "code",
   "metadata": {
    "ExecuteTime": {
     "end_time": "2025-05-05T03:28:33.605674Z",
     "start_time": "2025-05-05T03:28:33.601829Z"
    }
   },
   "source": [
    "stop_words = set(stopwords.words('english'))\n",
    "filtered_words = [word for word in words if word.lower() not in stop_words and word not in string.punctuation]\n",
    "\n",
    "print(\"2. Stopword Removal:\")\n",
    "print(f\"Words before removal: {len(words)}\")\n",
    "print(f\"Words after removal: {len(filtered_words)}\")\n",
    "print(f\"First 10 words after removal: {filtered_words[:10]}\")"
   ],
   "outputs": [
    {
     "name": "stdout",
     "output_type": "stream",
     "text": [
      "2. Stopword Removal:\n",
      "Words before removal: 110\n",
      "Words after removal: 61\n",
      "First 10 words after removal: ['Natural', 'Language', 'Processing', 'NLP', 'field', 'artificial', 'intelligence', 'focuses', 'interaction', 'computers']\n"
     ]
    }
   ],
   "execution_count": 19
  },
  {
   "cell_type": "code",
   "metadata": {
    "ExecuteTime": {
     "end_time": "2025-05-05T03:28:33.619461Z",
     "start_time": "2025-05-05T03:28:33.616014Z"
    }
   },
   "source": [
    "stemmer = PorterStemmer()\n",
    "stemmed_words = [stemmer.stem(word) for word in filtered_words]\n",
    "\n",
    "print(\"3. Stemming:\")\n",
    "print(\"Sample stemmed words:\")\n",
    "for original, stemmed in zip(filtered_words[:5], stemmed_words[:5]):\n",
    "    print(f\"{original} -> {stemmed}\")"
   ],
   "outputs": [
    {
     "name": "stdout",
     "output_type": "stream",
     "text": [
      "3. Stemming:\n",
      "Sample stemmed words:\n",
      "Natural -> natur\n",
      "Language -> languag\n",
      "Processing -> process\n",
      "NLP -> nlp\n",
      "field -> field\n"
     ]
    }
   ],
   "execution_count": 20
  },
  {
   "cell_type": "code",
   "metadata": {
    "ExecuteTime": {
     "end_time": "2025-05-05T03:28:33.632938Z",
     "start_time": "2025-05-05T03:28:33.629869Z"
    }
   },
   "source": [
    "lemmatizer = WordNetLemmatizer()\n",
    "lemmatized_words = [lemmatizer.lemmatize(word.lower()) for word in filtered_words]\n",
    "\n",
    "print(\"4. Lemmatization:\")\n",
    "print(\"Sample lemmatized words:\")\n",
    "for original, lemmatized in zip(filtered_words[:5], lemmatized_words[:5]):\n",
    "    print(f\"{original} -> {lemmatized}\")"
   ],
   "outputs": [
    {
     "name": "stdout",
     "output_type": "stream",
     "text": [
      "4. Lemmatization:\n",
      "Sample lemmatized words:\n",
      "Natural -> natural\n",
      "Language -> language\n",
      "Processing -> processing\n",
      "NLP -> nlp\n",
      "field -> field\n"
     ]
    }
   ],
   "execution_count": 21
  },
  {
   "cell_type": "code",
   "metadata": {
    "ExecuteTime": {
     "end_time": "2025-05-05T03:28:33.646232Z",
     "start_time": "2025-05-05T03:28:33.643549Z"
    }
   },
   "source": [
    "word_freq = Counter(lemmatized_words)\n",
    "total_words = len(lemmatized_words)\n",
    "term_freq = {word: count/total_words for word, count in word_freq.items()}\n",
    "\n",
    "print(\"5. Term Frequency (TF):\")\n",
    "print(\"Top 5 words by frequency:\")\n",
    "for word, freq in sorted(term_freq.items(), key=lambda x: x[1], reverse=True)[:5]:\n",
    "    print(f\"{word}: {freq:.4f}\")"
   ],
   "outputs": [
    {
     "name": "stdout",
     "output_type": "stream",
     "text": [
      "5. Term Frequency (TF):\n",
      "Top 5 words by frequency:\n",
      "language: 0.0820\n",
      "human: 0.0656\n",
      "nlp: 0.0492\n",
      "natural: 0.0328\n",
      "computer: 0.0328\n"
     ]
    }
   ],
   "execution_count": 22
  },
  {
   "cell_type": "code",
   "metadata": {
    "ExecuteTime": {
     "end_time": "2025-05-05T03:28:33.754521Z",
     "start_time": "2025-05-05T03:28:33.658126Z"
    }
   },
   "source": [
    "plt.figure(figsize=(10, 6))\n",
    "top_words = dict(sorted(term_freq.items(), key=lambda x: x[1], reverse=True)[:10])\n",
    "plt.bar(top_words.keys(), top_words.values())\n",
    "plt.title('Top 10 Words by Frequency')\n",
    "plt.xticks(rotation=45, ha='right')\n",
    "plt.ylabel('Term Frequency')\n",
    "plt.tight_layout()\n",
    "plt.show()"
   ],
   "outputs": [
    {
     "data": {
      "text/plain": [
       "<Figure size 1000x600 with 1 Axes>"
      ],
      "image/png": "[encoded data removed]"
     },
     "metadata": {},
     "output_type": "display_data"
    }
   ],
   "execution_count": 23
  },
  {
   "cell_type": "code",
   "metadata": {
    "ExecuteTime": {
     "end_time": "2025-05-05T03:28:33.779057Z",
     "start_time": "2025-05-05T03:28:33.772372Z"
    }
   },
   "source": [
    "comparison = pd.DataFrame({\n",
    "    'Original': filtered_words[:10],\n",
    "    'Stemmed': stemmed_words[:10],\n",
    "    'Lemmatized': lemmatized_words[:10]\n",
    "})\n",
    "\n",
    "comparison"
   ],
   "outputs": [
    {
     "data": {
      "text/plain": [
       "       Original   Stemmed    Lemmatized\n",
       "0       Natural     natur       natural\n",
       "1      Language   languag      language\n",
       "2    Processing   process    processing\n",
       "3           NLP       nlp           nlp\n",
       "4         field     field         field\n",
       "5    artificial  artifici    artificial\n",
       "6  intelligence  intellig  intelligence\n",
       "7       focuses     focus         focus\n",
       "8   interaction  interact   interaction\n",
       "9     computers    comput      computer"
      ],
      "text/html": [
       "<div>\n",
       "<style scoped>\n",
       "    .dataframe tbody tr th:only-of-type {\n",
       "        vertical-align: middle;\n",
       "    }\n",
       "\n",
       "    .dataframe tbody tr th {\n",
       "        vertical-align: top;\n",
       "    }\n",
       "\n",
       "    .dataframe thead th {\n",
       "        text-align: right;\n",
       "    }\n",
       "</style>\n",
       "<table border=\"1\" class=\"dataframe\">\n",
       "  <thead>\n",
       "    <tr style=\"text-align: right;\">\n",
       "      <th></th>\n",
       "      <th>Original</th>\n",
       "      <th>Stemmed</th>\n",
       "      <th>Lemmatized</th>\n",
       "    </tr>\n",
       "  </thead>\n",
       "  <tbody>\n",
       "    <tr>\n",
       "      <th>0</th>\n",
       "      <td>Natural</td>\n",
       "      <td>natur</td>\n",
       "      <td>natural</td>\n",
       "    </tr>\n",
       "    <tr>\n",
       "      <th>1</th>\n",
       "      <td>Language</td>\n",
       "      <td>languag</td>\n",
       "      <td>language</td>\n",
       "    </tr>\n",
       "    <tr>\n",
       "      <th>2</th>\n",
       "      <td>Processing</td>\n",
       "      <td>process</td>\n",
       "      <td>processing</td>\n",
       "    </tr>\n",
       "    <tr>\n",
       "      <th>3</th>\n",
       "      <td>NLP</td>\n",
       "      <td>nlp</td>\n",
       "      <td>nlp</td>\n",
       "    </tr>\n",
       "    <tr>\n",
       "      <th>4</th>\n",
       "      <td>field</td>\n",
       "      <td>field</td>\n",
       "      <td>field</td>\n",
       "    </tr>\n",
       "    <tr>\n",
       "      <th>5</th>\n",
       "      <td>artificial</td>\n",
       "      <td>artifici</td>\n",
       "      <td>artificial</td>\n",
       "    </tr>\n",
       "    <tr>\n",
       "      <th>6</th>\n",
       "      <td>intelligence</td>\n",
       "      <td>intellig</td>\n",
       "      <td>intelligence</td>\n",
       "    </tr>\n",
       "    <tr>\n",
       "      <th>7</th>\n",
       "      <td>focuses</td>\n",
       "      <td>focus</td>\n",
       "      <td>focus</td>\n",
       "    </tr>\n",
       "    <tr>\n",
       "      <th>8</th>\n",
       "      <td>interaction</td>\n",
       "      <td>interact</td>\n",
       "      <td>interaction</td>\n",
       "    </tr>\n",
       "    <tr>\n",
       "      <th>9</th>\n",
       "      <td>computers</td>\n",
       "      <td>comput</td>\n",
       "      <td>computer</td>\n",
       "    </tr>\n",
       "  </tbody>\n",
       "</table>\n",
       "</div>"
      ]
     },
     "execution_count": 24,
     "metadata": {},
     "output_type": "execute_result"
    }
   ],
   "execution_count": 24
  }
 ],
 "metadata": {
  "kernelspec": {
   "display_name": "Python 3",
   "language": "python",
   "name": "python3"
  },
  "language_info": {
   "codemirror_mode": {
    "name": "ipython",
    "version": 3
   },
   "file_extension": ".py",
   "mimetype": "text/x-python",
   "name": "python",
   "nbconvert_exporter": "python",
   "pygments_lexer": "ipython3",
   "version": "3.8.8"
  }
 },
 "nbformat": 4,
 "nbformat_minor": 4
}
